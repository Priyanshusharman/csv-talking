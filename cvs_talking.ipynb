{
 "cells": [
  {
   "cell_type": "code",
   "execution_count": 16,
   "metadata": {},
   "outputs": [],
   "source": [
    "from langchain_openai import OpenAI\n",
    "from langchain_experimental.agents import create_csv_agent\n"
   ]
  },
  {
   "cell_type": "code",
   "execution_count": 40,
   "metadata": {},
   "outputs": [],
   "source": [
    "file_address='imdb_movie_data_2023.csv'\n"
   ]
  },
  {
   "cell_type": "code",
   "execution_count": 28,
   "metadata": {},
   "outputs": [],
   "source": [
    "\n",
    "agent = create_csv_agent(OpenAI(temperature=0),file_address,verbose=True)"
   ]
  },
  {
   "cell_type": "code",
   "execution_count": 32,
   "metadata": {},
   "outputs": [],
   "source": [
    "\n",
    "template='''You are working with a pandas dataframe in Python. The name of the dataframe is `df`.\n",
    "You should use the tools below to answer the question posed of you:\n",
    "\n",
    "python_repl_ast: A Python shell. Use this to execute python commands. Input should be a valid python command. When using this tool, sometimes output is abbreviated - make sure it does not look abbreviated before using it in your answer.\n",
    "\n",
    "Use the following format:\n",
    "\n",
    "Question: the input question you must answer\n",
    "Thought: you should always think about what to do\n",
    "Action: the action to take, should be one of [python_repl_ast]\n",
    "Action Input: the input to the action\n",
    "Observation: the result of the action\n",
    "... (this Thought/Action/Action Input/Observation can repeat N times)\n",
    "Thought: I now know the final answer\n",
    "Final Answer: the final answer to the original input question\n",
    "\n",
    "\n",
    "This is the result of `print(df.head())`:\n",
    "{df}\n",
    "\n",
    "Begin!\n",
    "Question: {input}\n",
    "{agent_scratchpad}'''"
   ]
  },
  {
   "cell_type": "code",
   "execution_count": 33,
   "metadata": {},
   "outputs": [
    {
     "name": "stderr",
     "output_type": "stream",
     "text": [
      "c:\\Users\\priya\\AppData\\Local\\Programs\\Python\\Python310\\lib\\site-packages\\langchain_experimental\\agents\\agent_toolkits\\pandas\\base.py:242: UserWarning: Received additional kwargs {'prompt': 'You are working with a pandas dataframe in Python. The name of the dataframe is `df`.\\nYou should use the tools below to answer the question posed of you:\\n\\npython_repl_ast: A Python shell. Use this to execute python commands. Input should be a valid python command. When using this tool, sometimes output is abbreviated - make sure it does not look abbreviated before using it in your answer.\\n\\nUse the following format:\\n\\nQuestion: the input question you must answer\\nThought: you should always think about what to do\\nAction: the action to take, should be one of [python_repl_ast]\\nAction Input: the input to the action\\nObservation: the result of the action\\n... (this Thought/Action/Action Input/Observation can repeat N times)\\nThought: I now know the final answer\\nFinal Answer: the final answer to the original input question\\n\\n\\nThis is the result of `print(df.head())`:\\n{df}\\n\\nBegin!\\nQuestion: {input}\\n{agent_scratchpad}'} which are no longer supported.\n",
      "  warnings.warn(\n"
     ]
    }
   ],
   "source": [
    "agent = create_csv_agent(OpenAI(temperature=0),file_address,prompt=template,verbose=True)\n"
   ]
  },
  {
   "cell_type": "code",
   "execution_count": 34,
   "metadata": {},
   "outputs": [
    {
     "name": "stderr",
     "output_type": "stream",
     "text": [
      "c:\\Users\\priya\\AppData\\Local\\Programs\\Python\\Python310\\lib\\site-packages\\langchain_core\\_api\\deprecation.py:117: LangChainDeprecationWarning: The function `run` was deprecated in LangChain 0.1.0 and will be removed in 0.2.0. Use invoke instead.\n",
      "  warn_deprecated(\n"
     ]
    },
    {
     "name": "stdout",
     "output_type": "stream",
     "text": [
      "\n",
      "\n",
      "\u001b[1m> Entering new AgentExecutor chain...\u001b[0m\n",
      "\u001b[32;1m\u001b[1;3mThought: I need to count the number of rows in the dataframe\n",
      "Action: python_repl_ast\n",
      "Action Input: len(df)\u001b[0m\u001b[36;1m\u001b[1;3m1950\u001b[0m\u001b[32;1m\u001b[1;3m1950 is the number of rows in the dataframe\n",
      "Final Answer: There are 1950 rows in the dataframe.\u001b[0m\n",
      "\n",
      "\u001b[1m> Finished chain.\u001b[0m\n"
     ]
    },
    {
     "data": {
      "text/plain": [
       "'There are 1950 rows in the dataframe.'"
      ]
     },
     "execution_count": 34,
     "metadata": {},
     "output_type": "execute_result"
    }
   ],
   "source": [
    "agent.run(\"how many rows are there?\")"
   ]
  },
  {
   "cell_type": "code",
   "execution_count": 35,
   "metadata": {},
   "outputs": [
    {
     "name": "stdout",
     "output_type": "stream",
     "text": [
      "\n",
      "\n",
      "\u001b[1m> Entering new AgentExecutor chain...\u001b[0m\n",
      "\u001b[32;1m\u001b[1;3mThought: I need to find out which columns are in the dataframe\n",
      "Action: python_repl_ast\n",
      "Action Input: df.columns\u001b[0m\u001b[36;1m\u001b[1;3mIndex(['Unnamed: 0', 'Moive Name', 'Rating', 'Votes', 'Meta Score', 'Genre',\n",
      "       'PG Rating', 'Year', 'Duration', 'Cast', 'Director'],\n",
      "      dtype='object')\u001b[0m\u001b[32;1m\u001b[1;3mI now know the final answer\n",
      "Final Answer: The columns in the dataframe are 'Unnamed: 0', 'Moive Name', 'Rating', 'Votes', 'Meta Score', 'Genre', 'PG Rating', 'Year', 'Duration', 'Cast', and 'Director'.\u001b[0m\n",
      "\n",
      "\u001b[1m> Finished chain.\u001b[0m\n"
     ]
    },
    {
     "data": {
      "text/plain": [
       "\"The columns in the dataframe are 'Unnamed: 0', 'Moive Name', 'Rating', 'Votes', 'Meta Score', 'Genre', 'PG Rating', 'Year', 'Duration', 'Cast', and 'Director'.\""
      ]
     },
     "execution_count": 35,
     "metadata": {},
     "output_type": "execute_result"
    }
   ],
   "source": [
    "agent.run(\"who may coloum have\")"
   ]
  },
  {
   "cell_type": "code",
   "execution_count": 36,
   "metadata": {},
   "outputs": [
    {
     "name": "stdout",
     "output_type": "stream",
     "text": [
      "\n",
      "\n",
      "\u001b[1m> Entering new AgentExecutor chain...\u001b[0m\n",
      "\u001b[32;1m\u001b[1;3mThought: I should check for duplicate rows in the dataframe\n",
      "Action: python_repl_ast\n",
      "Action Input: df.duplicated().any()\u001b[0m\u001b[36;1m\u001b[1;3mFalse\u001b[0m\u001b[32;1m\u001b[1;3mThis means there are no duplicate rows in the dataframe\n",
      "Final Answer: No, there are no duplicate rows in the dataframe.\u001b[0m\n",
      "\n",
      "\u001b[1m> Finished chain.\u001b[0m\n"
     ]
    },
    {
     "data": {
      "text/plain": [
       "'No, there are no duplicate rows in the dataframe.'"
      ]
     },
     "execution_count": 36,
     "metadata": {},
     "output_type": "execute_result"
    }
   ],
   "source": [
    "agent.run(\"there is any dublicate data\")"
   ]
  },
  {
   "cell_type": "code",
   "execution_count": 38,
   "metadata": {},
   "outputs": [
    {
     "name": "stdout",
     "output_type": "stream",
     "text": [
      "\n",
      "\n",
      "\u001b[1m> Entering new AgentExecutor chain...\u001b[0m\n",
      "\u001b[32;1m\u001b[1;3mThought: I need to sort the dataframe by the \"Rating\" column and then select the top 5 rows.\n",
      "Action: python_repl_ast\n",
      "Action Input: df.sort_values(by=\"Rating\", ascending=False).head(5)\u001b[0m\u001b[36;1m\u001b[1;3m      Unnamed: 0                 Moive Name  Rating      Votes  Meta Score  \\\n",
      "80            80   The Shawshank Redemption     9.3  2800000.0        82.0   \n",
      "1766        1766              Da 'Partments     9.3       82.0         NaN   \n",
      "88            88              The Godfather     9.2  2000000.0       100.0   \n",
      "219          219           Schindler's List     9.0  1400000.0        95.0   \n",
      "115          115            The Dark Knight     9.0  2800000.0        84.0   \n",
      "\n",
      "                          Genre PG Rating  Year Duration  \\\n",
      "80                        Drama         R  1994   2h 22m   \n",
      "1766                        NaN       NaN  2023   1h 19m   \n",
      "88                 Crime, Drama         R  1972   2h 55m   \n",
      "219   Biography, Drama, History         R  1993   3h 15m   \n",
      "115        Action, Crime, Drama     PG-13  2008   2h 32m   \n",
      "\n",
      "                                                   Cast              Director  \n",
      "80    Tim Robbins, Morgan Freeman, Bob Gunton, Willi...        Frank Darabont  \n",
      "1766                                                NaN                   NaN  \n",
      "88    Marlon Brando, Al Pacino, James Caan, Diane Ke...  Francis Ford Coppola  \n",
      "219   Liam Neeson, Ralph Fiennes, Ben Kingsley, Caro...      Steven Spielberg  \n",
      "115   Christian Bale, Heath Ledger, Aaron Eckhart, M...     Christopher Nolan  \u001b[0m\u001b[32;1m\u001b[1;3m I now know the final answer\n",
      "Final Answer: The top 5 movies are \"The Shawshank Redemption\", \"Da 'Partments\", \"The Godfather\", \"Schindler's List\", and \"The Dark Knight\".\u001b[0m\n",
      "\n",
      "\u001b[1m> Finished chain.\u001b[0m\n"
     ]
    }
   ],
   "source": [
    "answer=agent.run(\"give me list of top  5 movie\")"
   ]
  },
  {
   "cell_type": "code",
   "execution_count": 39,
   "metadata": {},
   "outputs": [
    {
     "data": {
      "text/plain": [
       "'The top 5 movies are \"The Shawshank Redemption\", \"Da \\'Partments\", \"The Godfather\", \"Schindler\\'s List\", and \"The Dark Knight\".'"
      ]
     },
     "execution_count": 39,
     "metadata": {},
     "output_type": "execute_result"
    }
   ],
   "source": [
    "answer"
   ]
  },
  {
   "cell_type": "code",
   "execution_count": null,
   "metadata": {},
   "outputs": [],
   "source": []
  }
 ],
 "metadata": {
  "kernelspec": {
   "display_name": "Python 3",
   "language": "python",
   "name": "python3"
  },
  "language_info": {
   "codemirror_mode": {
    "name": "ipython",
    "version": 3
   },
   "file_extension": ".py",
   "mimetype": "text/x-python",
   "name": "python",
   "nbconvert_exporter": "python",
   "pygments_lexer": "ipython3",
   "version": "3.10.2"
  }
 },
 "nbformat": 4,
 "nbformat_minor": 2
}
